{
  "nbformat": 4,
  "nbformat_minor": 0,
  "metadata": {
    "colab": {
      "name": "MiniProjectFinal.ipynb",
      "provenance": [],
      "collapsed_sections": []
    },
    "kernelspec": {
      "name": "python3",
      "display_name": "Python 3"
    },
    "language_info": {
      "name": "python"
    },
    "accelerator": "GPU",
    "gpuClass": "standard"
  },
  "cells": [
    {
      "cell_type": "code",
      "execution_count": null,
      "metadata": {
        "id": "VAPKhoPa-qd3"
      },
      "outputs": [],
      "source": [
        "import os\n",
        "import numpy as np\n",
        "import tensorflow as tf\n",
        "import matplotlib.pyplot as plt\n",
        "import warnings\n",
        "warnings.filterwarnings(\"ignore\")"
      ]
    },
    {
      "cell_type": "code",
      "source": [
        "from google.colab import drive\n",
        "drive.mount('/content/drive')"
      ],
      "metadata": {
        "id": "CD1K9Ati_MHF",
        "colab": {
          "base_uri": "https://localhost:8080/"
        },
        "outputId": "32a84bc3-451c-45ad-d04d-1bafa807e690"
      },
      "execution_count": null,
      "outputs": [
        {
          "output_type": "stream",
          "name": "stdout",
          "text": [
            "Mounted at /content/drive\n"
          ]
        }
      ]
    },
    {
      "cell_type": "code",
      "source": [
        "# File Directory for both the train and test\n",
        "train_path = \"/content/drive/MyDrive/Data/train\"\n",
        "val_path = \"/content/drive/MyDrive/Data/valid\"\n",
        "test_path = \"/content/drive/MyDrive/Data/test\""
      ],
      "metadata": {
        "id": "0IwlNKjb_NYq"
      },
      "execution_count": null,
      "outputs": []
    },
    {
      "cell_type": "code",
      "source": [
        "def GetDatasetSize(path):\n",
        "    num_of_image = {}\n",
        "    for folder in os.listdir(path):\n",
        "        # Counting the Number of Files in the Folder\n",
        "        num_of_image[folder] = len(os.listdir(os.path.join(path, folder)));\n",
        "    return num_of_image;\n",
        "    \n",
        "train_set = GetDatasetSize(train_path)\n",
        "val_set = GetDatasetSize(val_path)\n",
        "test_set = GetDatasetSize(test_path)\n",
        "print(train_set,\"\\n\\n\",val_set,\"\\n\\n\",test_set)"
      ],
      "metadata": {
        "id": "9u-1bbvc_FJJ",
        "colab": {
          "base_uri": "https://localhost:8080/"
        },
        "outputId": "84c83be4-f6cb-427a-8ac6-c36712bce06e"
      },
      "execution_count": null,
      "outputs": [
        {
          "output_type": "stream",
          "name": "stdout",
          "text": [
            "{'adenoCarcinoma': 195, 'squamousCellCarcinoma': 155, 'normal': 148} \n",
            "\n",
            " {'adenoCarcinoma': 23, 'squamousCellCarcinoma': 15, 'normal': 13} \n",
            "\n",
            " {'squamousCellCarcinoma': 90, 'adenoCarcinoma': 120, 'normal': 54}\n"
          ]
        }
      ]
    },
    {
      "cell_type": "code",
      "source": [
        "import tensorflow.keras\n",
        "from tensorflow.keras import layers\n",
        "from tensorflow.keras.models import Sequential\n",
        "from tensorflow.keras.preprocessing import image\n",
        "from tensorflow.keras.callbacks import ModelCheckpoint, EarlyStopping\n",
        "from tensorflow.keras.preprocessing.image import ImageDataGenerator\n",
        "from tensorflow.keras.applications.vgg16 import VGG16\n",
        "from tensorflow.keras.models import load_model\n",
        "from tensorflow.keras.layers import Dense, Conv2D, Flatten, MaxPool2D, Dropout"
      ],
      "metadata": {
        "id": "DxoHBL-qAOl4"
      },
      "execution_count": null,
      "outputs": []
    },
    {
      "cell_type": "code",
      "source": [
        "train_datagen = ImageDataGenerator(rescale = 1.0/255.0,\n",
        "                                  horizontal_flip = True,\n",
        "                                  fill_mode = 'nearest',\n",
        "                                  zoom_range=0.2,\n",
        "                                  shear_range = 0.2,\n",
        "                                  width_shift_range=0.2,\n",
        "                                  height_shift_range=0.2,\n",
        "                                  rotation_range=0.4)\n",
        "\n",
        "train_data = train_datagen.flow_from_directory(train_path,\n",
        "                                                   batch_size = 5,\n",
        "                                                   target_size = (350,350),\n",
        "                                                   class_mode = 'categorical')"
      ],
      "metadata": {
        "id": "xJ6qydiBAZ0L",
        "colab": {
          "base_uri": "https://localhost:8080/"
        },
        "outputId": "73a74faa-05bc-45c5-d0ad-fde6b285c67d"
      },
      "execution_count": null,
      "outputs": [
        {
          "output_type": "stream",
          "name": "stdout",
          "text": [
            "Found 498 images belonging to 3 classes.\n"
          ]
        }
      ]
    },
    {
      "cell_type": "code",
      "source": [
        "train_data.class_indices"
      ],
      "metadata": {
        "id": "MDx7swk6AcCv",
        "colab": {
          "base_uri": "https://localhost:8080/"
        },
        "outputId": "ea7655bf-d124-44f7-d226-4fa284aff3b3"
      },
      "execution_count": null,
      "outputs": [
        {
          "output_type": "execute_result",
          "data": {
            "text/plain": [
              "{'adenoCarcinoma': 0, 'normal': 1, 'squamousCellCarcinoma': 2}"
            ]
          },
          "metadata": {},
          "execution_count": 33
        }
      ]
    },
    {
      "cell_type": "code",
      "source": [
        "val_datagen = ImageDataGenerator(rescale = 1.0/255.0)\n",
        "val_data = val_datagen.flow_from_directory(val_path,\n",
        "                                                   batch_size = 5,\n",
        "                                                   target_size = (350,350),\n",
        "                                                   class_mode = 'categorical')"
      ],
      "metadata": {
        "id": "mCMKoQ0hAfAd",
        "colab": {
          "base_uri": "https://localhost:8080/"
        },
        "outputId": "104980f0-4b04-478b-9968-ec635f2c38b7"
      },
      "execution_count": null,
      "outputs": [
        {
          "output_type": "stream",
          "name": "stdout",
          "text": [
            "Found 51 images belonging to 3 classes.\n"
          ]
        }
      ]
    },
    {
      "cell_type": "code",
      "source": [
        "val_data.class_indices"
      ],
      "metadata": {
        "id": "MKHZ3yJfAjD2",
        "colab": {
          "base_uri": "https://localhost:8080/"
        },
        "outputId": "498cfb34-675c-4e8d-e7ec-6411eaf188a5"
      },
      "execution_count": null,
      "outputs": [
        {
          "output_type": "execute_result",
          "data": {
            "text/plain": [
              "{'adenoCarcinoma': 0, 'normal': 1, 'squamousCellCarcinoma': 2}"
            ]
          },
          "metadata": {},
          "execution_count": 35
        }
      ]
    },
    {
      "cell_type": "code",
      "source": [
        "test_datagen = ImageDataGenerator(rescale = 1.0/255.0)\n",
        "test_data = test_datagen.flow_from_directory(test_path,\n",
        "                                                   batch_size = 5,\n",
        "                                                   target_size = (350,350),\n",
        "                                                   class_mode = 'categorical')"
      ],
      "metadata": {
        "id": "1j7rXfgBAl_v",
        "colab": {
          "base_uri": "https://localhost:8080/"
        },
        "outputId": "b977f3bf-0953-4136-c7ad-488a66a51bd6"
      },
      "execution_count": null,
      "outputs": [
        {
          "output_type": "stream",
          "name": "stdout",
          "text": [
            "Found 264 images belonging to 3 classes.\n"
          ]
        }
      ]
    },
    {
      "cell_type": "code",
      "source": [
        "test_data.class_indices"
      ],
      "metadata": {
        "id": "XB_HLUCKAoRI",
        "colab": {
          "base_uri": "https://localhost:8080/"
        },
        "outputId": "dead7787-2c50-46cf-97f1-41d3d3864e1b"
      },
      "execution_count": null,
      "outputs": [
        {
          "output_type": "execute_result",
          "data": {
            "text/plain": [
              "{'adenoCarcinoma': 0, 'normal': 1, 'squamousCellCarcinoma': 2}"
            ]
          },
          "metadata": {},
          "execution_count": 37
        }
      ]
    },
    {
      "cell_type": "markdown",
      "source": [
        "VGG16 Implementation"
      ],
      "metadata": {
        "id": "79woBJbMRiGx"
      }
    },
    {
      "cell_type": "code",
      "source": [
        "base_model = VGG16(\n",
        "    weights='imagenet',\n",
        "    include_top=False, \n",
        "    input_shape=(350,350,3)\n",
        ")"
      ],
      "metadata": {
        "id": "-wk7gXtA_16t"
      },
      "execution_count": null,
      "outputs": []
    },
    {
      "cell_type": "code",
      "source": [
        "NUM_CLASSES = 3\n",
        "\n",
        "vgg_model = Sequential()\n",
        "vgg_model.add(base_model)\n",
        "vgg_model.add(layers.Flatten())\n",
        "vgg_model.add(layers.Dropout(0.25))\n",
        "vgg_model.add(layers.Dense(NUM_CLASSES, activation='sigmoid'))\n",
        "\n",
        "vgg_model.layers[0].trainable = False\n",
        "\n",
        "vgg_model.compile(\n",
        "    loss='categorical_crossentropy',\n",
        "    optimizer='adam',\n",
        "    metrics=['accuracy']\n",
        ")\n",
        "\n",
        "vgg_model.summary()"
      ],
      "metadata": {
        "id": "MmSRxmoEAx2B",
        "colab": {
          "base_uri": "https://localhost:8080/"
        },
        "outputId": "d9618623-0bad-4054-ca9d-68fce920bf9c"
      },
      "execution_count": null,
      "outputs": [
        {
          "output_type": "stream",
          "name": "stdout",
          "text": [
            "Model: \"sequential_1\"\n",
            "_________________________________________________________________\n",
            " Layer (type)                Output Shape              Param #   \n",
            "=================================================================\n",
            " vgg16 (Functional)          (None, 10, 10, 512)       14714688  \n",
            "                                                                 \n",
            " flatten_1 (Flatten)         (None, 51200)             0         \n",
            "                                                                 \n",
            " dropout_1 (Dropout)         (None, 51200)             0         \n",
            "                                                                 \n",
            " dense_1 (Dense)             (None, 3)                 153603    \n",
            "                                                                 \n",
            "=================================================================\n",
            "Total params: 14,868,291\n",
            "Trainable params: 153,603\n",
            "Non-trainable params: 14,714,688\n",
            "_________________________________________________________________\n"
          ]
        }
      ]
    },
    {
      "cell_type": "code",
      "source": [
        "# Adding Model check point Callback\n",
        "\n",
        "mc = ModelCheckpoint(\n",
        "    filepath=\"./ct_vgg_best_model.hdf5\",\n",
        "    monitor= 'val_accuracy', \n",
        "    verbose= 1,\n",
        "    save_best_only= True, \n",
        "    mode = 'auto'\n",
        "    );\n",
        "call_back = [mc];"
      ],
      "metadata": {
        "id": "RrXQLhZuA1uY"
      },
      "execution_count": null,
      "outputs": []
    },
    {
      "cell_type": "code",
      "source": [
        "# Fitting the Model\n",
        "vgg = vgg_model.fit(\n",
        "    train_data, \n",
        "    steps_per_epoch = train_data.samples//train_data.batch_size, \n",
        "    epochs = 10, \n",
        "    validation_data = val_data, \n",
        "    validation_steps = val_data.samples//val_data.batch_size,\n",
        "    callbacks = call_back\n",
        "    )"
      ],
      "metadata": {
        "id": "kbs3Sil7A5hX",
        "colab": {
          "base_uri": "https://localhost:8080/"
        },
        "outputId": "32539707-a834-4ee1-cfe7-6df4459f19d0"
      },
      "execution_count": null,
      "outputs": [
        {
          "output_type": "stream",
          "name": "stdout",
          "text": [
            "Epoch 1/10\n",
            "99/99 [==============================] - ETA: 0s - loss: 1.5751 - accuracy: 0.6471\n",
            "Epoch 1: val_accuracy improved from -inf to 0.68000, saving model to ./ct_vgg_best_model.hdf5\n",
            "99/99 [==============================] - 85s 855ms/step - loss: 1.5751 - accuracy: 0.6471 - val_loss: 1.6024 - val_accuracy: 0.6800\n",
            "Epoch 2/10\n",
            "99/99 [==============================] - ETA: 0s - loss: 1.2357 - accuracy: 0.7099\n",
            "Epoch 2: val_accuracy did not improve from 0.68000\n",
            "99/99 [==============================] - 19s 186ms/step - loss: 1.2357 - accuracy: 0.7099 - val_loss: 2.7851 - val_accuracy: 0.5600\n",
            "Epoch 3/10\n",
            "99/99 [==============================] - ETA: 0s - loss: 1.1409 - accuracy: 0.7221\n",
            "Epoch 3: val_accuracy improved from 0.68000 to 0.72000, saving model to ./ct_vgg_best_model.hdf5\n",
            "99/99 [==============================] - 19s 189ms/step - loss: 1.1409 - accuracy: 0.7221 - val_loss: 0.5882 - val_accuracy: 0.7200\n",
            "Epoch 4/10\n",
            "99/99 [==============================] - ETA: 0s - loss: 1.1143 - accuracy: 0.7444\n",
            "Epoch 4: val_accuracy improved from 0.72000 to 0.78000, saving model to ./ct_vgg_best_model.hdf5\n",
            "99/99 [==============================] - 19s 189ms/step - loss: 1.1143 - accuracy: 0.7444 - val_loss: 0.5911 - val_accuracy: 0.7800\n",
            "Epoch 5/10\n",
            "99/99 [==============================] - ETA: 0s - loss: 1.0338 - accuracy: 0.7505\n",
            "Epoch 5: val_accuracy did not improve from 0.78000\n",
            "99/99 [==============================] - 19s 188ms/step - loss: 1.0338 - accuracy: 0.7505 - val_loss: 0.7291 - val_accuracy: 0.7200\n",
            "Epoch 6/10\n",
            "99/99 [==============================] - ETA: 0s - loss: 1.0737 - accuracy: 0.7424\n",
            "Epoch 6: val_accuracy did not improve from 0.78000\n",
            "99/99 [==============================] - 19s 190ms/step - loss: 1.0737 - accuracy: 0.7424 - val_loss: 0.5695 - val_accuracy: 0.7800\n",
            "Epoch 7/10\n",
            "99/99 [==============================] - ETA: 0s - loss: 0.8880 - accuracy: 0.7708\n",
            "Epoch 7: val_accuracy did not improve from 0.78000\n",
            "99/99 [==============================] - 19s 190ms/step - loss: 0.8880 - accuracy: 0.7708 - val_loss: 1.2230 - val_accuracy: 0.7000\n",
            "Epoch 8/10\n",
            "99/99 [==============================] - ETA: 0s - loss: 0.8889 - accuracy: 0.8032\n",
            "Epoch 8: val_accuracy did not improve from 0.78000\n",
            "99/99 [==============================] - 19s 190ms/step - loss: 0.8889 - accuracy: 0.8032 - val_loss: 2.4877 - val_accuracy: 0.6600\n",
            "Epoch 9/10\n",
            "99/99 [==============================] - ETA: 0s - loss: 0.8661 - accuracy: 0.7850\n",
            "Epoch 9: val_accuracy did not improve from 0.78000\n",
            "99/99 [==============================] - 19s 190ms/step - loss: 0.8661 - accuracy: 0.7850 - val_loss: 1.4957 - val_accuracy: 0.7200\n",
            "Epoch 10/10\n",
            "99/99 [==============================] - ETA: 0s - loss: 0.8312 - accuracy: 0.7890\n",
            "Epoch 10: val_accuracy improved from 0.78000 to 0.88000, saving model to ./ct_vgg_best_model.hdf5\n",
            "99/99 [==============================] - 19s 192ms/step - loss: 0.8312 - accuracy: 0.7890 - val_loss: 0.4518 - val_accuracy: 0.8800\n"
          ]
        }
      ]
    },
    {
      "cell_type": "code",
      "source": [
        "# Loading the Best Fit Model \n",
        "model = load_model(\"/content/drive/MyDrive/Data/ct_vgg_best_model.hdf5\")"
      ],
      "metadata": {
        "id": "ub0-q1cPA_PZ"
      },
      "execution_count": null,
      "outputs": []
    },
    {
      "cell_type": "code",
      "source": [
        "# Checking the Accuracy of the Model \n",
        "accuracy_vgg = model.evaluate_generator(generator= test_data)[1]\n",
        "print(f\"The accuracy of the model is = {accuracy_vgg*100} %\")"
      ],
      "metadata": {
        "id": "oD_l6fLy_y8w",
        "colab": {
          "base_uri": "https://localhost:8080/"
        },
        "outputId": "9fe06cd2-5451-4c0c-c236-e5c4419513d0"
      },
      "execution_count": null,
      "outputs": [
        {
          "output_type": "stream",
          "name": "stdout",
          "text": [
            "The accuracy of the model is = 92.42424368858337 %\n"
          ]
        }
      ]
    },
    {
      "cell_type": "code",
      "source": [
        "vgg.history.keys()"
      ],
      "metadata": {
        "id": "Kuu2gw_0PJ6k",
        "colab": {
          "base_uri": "https://localhost:8080/"
        },
        "outputId": "9d523771-560f-4117-914a-e09df6798019"
      },
      "execution_count": null,
      "outputs": [
        {
          "output_type": "execute_result",
          "data": {
            "text/plain": [
              "dict_keys(['loss', 'accuracy', 'val_loss', 'val_accuracy'])"
            ]
          },
          "metadata": {},
          "execution_count": 46
        }
      ]
    },
    {
      "cell_type": "code",
      "source": [
        "# Plot model performance\n",
        "acc = vgg.history['accuracy']\n",
        "val_acc = vgg.history['val_accuracy']\n",
        "loss = vgg.history['loss']\n",
        "val_loss = vgg.history['val_loss']\n",
        "epochs_range = range(1, len(vgg.epoch) + 1)\n",
        "\n",
        "plt.figure(figsize=(15,5))\n",
        "\n",
        "plt.subplot(1, 2, 1)\n",
        "plt.plot(epochs_range, acc, label='Train Set')\n",
        "plt.plot(epochs_range, val_acc, label='Val Set')\n",
        "plt.legend(loc=\"best\")\n",
        "plt.xlabel('Epochs')\n",
        "plt.ylabel('Accuracy')\n",
        "plt.title('Model Accuracy')\n",
        "\n",
        "plt.subplot(1, 2, 2)\n",
        "plt.plot(epochs_range, loss, label='Train Set')\n",
        "plt.plot(epochs_range, val_loss, label='Val Set')\n",
        "plt.legend(loc=\"best\")\n",
        "plt.xlabel('Epochs')\n",
        "plt.ylabel('Loss')\n",
        "plt.title('Model Loss')\n",
        "\n",
        "plt.tight_layout()\n",
        "plt.show()"
      ],
      "metadata": {
        "id": "QmAK2_sGPrTb",
        "colab": {
          "base_uri": "https://localhost:8080/",
          "height": 369
        },
        "outputId": "8bc0a6cc-5c03-4597-a2b9-827d4b2cfd63"
      },
      "execution_count": null,
      "outputs": [
        {
          "output_type": "display_data",
          "data": {
            "text/plain": [
              "<Figure size 1080x360 with 2 Axes>"
            ],
            "image/png": "[encoded data removed]"
          },
          "metadata": {
            "needs_background": "light"
          }
        }
      ]
    },
    {
      "cell_type": "code",
      "source": [
        "classes_dir = [\"Adenocarcinoma\",\"Normal\",\"Squamous cell carcinoma\"]\n",
        "# Loading Image\n",
        "img = image.load_img(\"000114.png\", target_size=(350,350))\n",
        "# Normalizing Image\n",
        "norm_img = image.img_to_array(img)/255\n",
        "# Converting Image to Numpy Array\n",
        "input_arr_img = np.array([norm_img])\n",
        "# Getting Predictions\n",
        "pred = np.argmax(model.predict(input_arr_img))\n",
        "# Printing Model Prediction\n",
        "print(model.predict(input_arr_img))\n",
        "print(classes_dir[pred])"
      ],
      "metadata": {
        "id": "gxUvZj1SPyNp",
        "colab": {
          "base_uri": "https://localhost:8080/"
        },
        "outputId": "6a176d17-5d34-4265-c5bd-6953089fe184"
      },
      "execution_count": null,
      "outputs": [
        {
          "output_type": "stream",
          "name": "stdout",
          "text": [
            "[[1.0000000e+00 1.2166725e-18 2.4327599e-02]]\n",
            "Adenocarcinoma\n"
          ]
        }
      ]
    },
    {
      "cell_type": "code",
      "source": [
        "converter = tf.TFLiteConverter.from_keras_model(model)"
      ],
      "metadata": {
        "id": "kpygHGDDTC_4"
      },
      "execution_count": null,
      "outputs": []
    },
    {
      "cell_type": "code",
      "source": [
        "tfmodel = converter.convert()"
      ],
      "metadata": {
        "id": "VimkE1ccTWSQ"
      },
      "execution_count": null,
      "outputs": []
    },
    {
      "cell_type": "code",
      "source": [
        "open('model.tflite','wb').write(tfmodel)"
      ],
      "metadata": {
        "id": "j_HB9P4NTeY7"
      },
      "execution_count": null,
      "outputs": []
    }
  ]
}